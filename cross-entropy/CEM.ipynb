{
  "cells": [
    {
      "cell_type": "markdown",
      "metadata": {
        "pycharm": {}
      },
      "source": [
        "# Cross-Entropy Method\n",
        "\n",
        "---\n",
        "\n",
        "In this notebook, we will train the Cross-Entropy Method with OpenAI Gym\u0027s MountainCarContinuous environment."
      ]
    },
    {
      "cell_type": "markdown",
      "metadata": {
        "pycharm": {}
      },
      "source": [
        "### 1. Import the Necessary Packages"
      ]
    },
    {
      "cell_type": "code",
      "execution_count": 1,
      "metadata": {
        "pycharm": {
          "is_executing": false
        }
      },
      "outputs": [],
      "source": [
        "import gym\n",
        "import math\n",
        "import numpy as np\n",
        "from collections import deque\n",
        "import matplotlib.pyplot as plt\n",
        "%matplotlib inline\n",
        "\n",
        "import torch\n",
        "import torch.nn as nn\n",
        "import torch.nn.functional as F\n",
        "from torch.autograd import Variable"
      ]
    },
    {
      "cell_type": "markdown",
      "metadata": {
        "pycharm": {}
      },
      "source": [
        "### 2. Instantiate the Environment and Agent"
      ]
    },
    {
      "cell_type": "code",
      "execution_count": 2,
      "metadata": {
        "pycharm": {}
      },
      "outputs": [
        {
          "name": "stdout",
          "output_type": "stream",
          "text": [
            "observation space: Box(2,)\n",
            "action space: Box(1,)\n",
            "  - low: [-1.]\n",
            "  - high: [1.]\n"
          ]
        }
      ],
      "source": [
        "device \u003d torch.device(\"cuda:0\" if torch.cuda.is_available() else \"cpu\")\n",
        "\n",
        "env \u003d gym.make(\u0027MountainCarContinuous-v0\u0027)\n",
        "env.seed(101)\n",
        "np.random.seed(101)\n",
        "\n",
        "print(\u0027observation space:\u0027, env.observation_space)\n",
        "print(\u0027action space:\u0027, env.action_space)\n",
        "print(\u0027  - low:\u0027, env.action_space.low)\n",
        "print(\u0027  - high:\u0027, env.action_space.high)\n",
        "\n",
        "class Agent(nn.Module):\n",
        "    def __init__(self, env, h_size\u003d16):\n",
        "        super(Agent, self).__init__()\n",
        "        self.env \u003d env\n",
        "        # state, hidden layer, action sizes\n",
        "        self.s_size \u003d env.observation_space.shape[0]\n",
        "        self.h_size \u003d h_size\n",
        "        self.a_size \u003d env.action_space.shape[0]\n",
        "        # define layers\n",
        "        self.fc1 \u003d nn.Linear(self.s_size, self.h_size)\n",
        "        self.fc2 \u003d nn.Linear(self.h_size, self.a_size)\n",
        "        \n",
        "    def set_weights(self, weights):\n",
        "        s_size \u003d self.s_size\n",
        "        h_size \u003d self.h_size\n",
        "        a_size \u003d self.a_size\n",
        "        # separate the weights for each layer\n",
        "        fc1_end \u003d (s_size*h_size)+h_size\n",
        "        fc1_W \u003d torch.from_numpy(weights[:s_size*h_size].reshape(s_size, h_size))\n",
        "        fc1_b \u003d torch.from_numpy(weights[s_size*h_size:fc1_end])\n",
        "        fc2_W \u003d torch.from_numpy(weights[fc1_end:fc1_end+(h_size*a_size)].reshape(h_size, a_size))\n",
        "        fc2_b \u003d torch.from_numpy(weights[fc1_end+(h_size*a_size):])\n",
        "        # set the weights for each layer\n",
        "        self.fc1.weight.data.copy_(fc1_W.view_as(self.fc1.weight.data))\n",
        "        self.fc1.bias.data.copy_(fc1_b.view_as(self.fc1.bias.data))\n",
        "        self.fc2.weight.data.copy_(fc2_W.view_as(self.fc2.weight.data))\n",
        "        self.fc2.bias.data.copy_(fc2_b.view_as(self.fc2.bias.data))\n",
        "    \n",
        "    def get_weights_dim(self):\n",
        "        return (self.s_size+1)*self.h_size + (self.h_size+1)*self.a_size\n",
        "        \n",
        "    def forward(self, x):\n",
        "        x \u003d F.relu(self.fc1(x))\n",
        "        x \u003d F.tanh(self.fc2(x))\n",
        "        return x.cpu().data\n",
        "        \n",
        "    def evaluate(self, weights, gamma\u003d1.0, max_t\u003d5000):\n",
        "        self.set_weights(weights)\n",
        "        episode_return \u003d 0.0\n",
        "        state \u003d self.env.reset()\n",
        "        for t in range(max_t):\n",
        "            state \u003d torch.from_numpy(state).float().to(device)\n",
        "            action \u003d self.forward(state)\n",
        "            state, reward, done, _ \u003d self.env.step(action)\n",
        "            episode_return +\u003d reward * math.pow(gamma, t)\n",
        "            if done:\n",
        "                break\n",
        "        return episode_return\n",
        "    \n",
        "agent \u003d Agent(env).to(device)"
      ]
    },
    {
      "cell_type": "markdown",
      "metadata": {
        "pycharm": {}
      },
      "source": [
        "### 3. Train the Agent with the Cross-Entropy Method\n",
        "\n",
        "Run the code cell below to train the agent from scratch.  Alternatively, you can skip to the next code cell to load the pre-trained weights from file."
      ]
    },
    {
      "cell_type": "code",
      "execution_count": 8,
      "metadata": {
        "pycharm": {}
      },
      "outputs": [
        {
          "name": "stdout",
          "output_type": "stream",
          "text": [
            "Episode 10\tAverage Score: -1.47\n",
            "Episode 20\tAverage Score: -1.02\n",
            "Episode 30\tAverage Score: -1.35\n",
            "Episode 40\tAverage Score: -2.36\n",
            "Episode 50\tAverage Score: -3.13\n",
            "Episode 60\tAverage Score: -2.80\n",
            "Episode 70\tAverage Score: -2.89\n",
            "Episode 80\tAverage Score: -3.11\n",
            "Episode 90\tAverage Score: -2.90\n",
            "Episode 100\tAverage Score: -2.75\n",
            "Episode 110\tAverage Score: -2.97\n",
            "Episode 120\tAverage Score: -3.24\n",
            "Episode 130\tAverage Score: -3.19\n",
            "Episode 140\tAverage Score: -2.73\n",
            "Episode 150\tAverage Score: -2.20\n",
            "Episode 160\tAverage Score: -2.21\n",
            "Episode 170\tAverage Score: -2.06\n",
            "Episode 180\tAverage Score: -1.71\n",
            "Episode 190\tAverage Score: -1.62\n",
            "Episode 200\tAverage Score: -1.49\n",
            "Episode 210\tAverage Score: -1.15\n",
            "Episode 220\tAverage Score: -0.83\n",
            "Episode 230\tAverage Score: -0.77\n",
            "Episode 240\tAverage Score: -0.84\n",
            "Episode 250\tAverage Score: -0.76\n",
            "Episode 260\tAverage Score: -0.66\n",
            "Episode 270\tAverage Score: -0.48\n",
            "Episode 280\tAverage Score: 1.66\n",
            "Episode 290\tAverage Score: 7.10\n",
            "Episode 300\tAverage Score: 13.76\n",
            "Episode 310\tAverage Score: 22.87\n",
            "Episode 320\tAverage Score: 32.46\n",
            "Episode 330\tAverage Score: 42.08\n",
            "Episode 340\tAverage Score: 51.68\n",
            "Episode 350\tAverage Score: 61.19\n",
            "Episode 360\tAverage Score: 70.67\n",
            "Episode 370\tAverage Score: 80.34\n",
            "Episode 380\tAverage Score: 87.98\n",
            "\n",
            "Environment solved in 288 iterations!\tAverage Score: 91.03\n"
          ]
        },
        {
          "data": {
            "image/png": "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\u003d\u003d\n",
            "text/plain": [
              "\u003cFigure size 432x288 with 1 Axes\u003e"
            ]
          },
          "metadata": {
            "needs_background": "light"
          },
          "output_type": "display_data"
        }
      ],
      "source": [
        "def cem(n_iterations\u003d500, max_t\u003d1000, gamma\u003d1.0, print_every\u003d10, pop_size\u003d50, elite_frac\u003d0.2, sigma\u003d0.5):\n",
        "    \"\"\"PyTorch implementation of the cross-entropy method.\n",
        "        \n",
        "    Params\n",
        "    \u003d\u003d\u003d\u003d\u003d\u003d\n",
        "        n_iterations (int): maximum number of training iterations\n",
        "        max_t (int): maximum number of timesteps per episode\n",
        "        gamma (float): discount rate\n",
        "        print_every (int): how often to print average score (over last 100 episodes)\n",
        "        pop_size (int): size of population at each iteration\n",
        "        elite_frac (float): percentage of top performers to use in update\n",
        "        sigma (float): standard deviation of additive noise\n",
        "    \"\"\"\n",
        "    n_elite\u003dint(pop_size*elite_frac)\n",
        "\n",
        "    scores_deque \u003d deque(maxlen\u003d100)\n",
        "    scores \u003d []\n",
        "    best_weight \u003d sigma*np.random.randn(agent.get_weights_dim())\n",
        "\n",
        "    for i_iteration in range(1, n_iterations+1):\n",
        "        weights_pop \u003d [best_weight + (sigma*np.random.randn(agent.get_weights_dim())) for i in range(pop_size)]\n",
        "        rewards \u003d np.array([agent.evaluate(weights, gamma, max_t) for weights in weights_pop])\n",
        "\n",
        "        elite_idxs \u003d rewards.argsort()[-n_elite:]\n",
        "        elite_weights \u003d [weights_pop[i] for i in elite_idxs]\n",
        "        best_weight \u003d np.array(elite_weights).mean(axis\u003d0)\n",
        "\n",
        "        reward \u003d agent.evaluate(best_weight, gamma\u003d1.0)\n",
        "        scores_deque.append(reward)\n",
        "        scores.append(reward)\n",
        "        \n",
        "        torch.save(agent.state_dict(), \u0027checkpoint.pth\u0027)\n",
        "        \n",
        "        if i_iteration % print_every \u003d\u003d 0:\n",
        "            print(\u0027Episode {}\\tAverage Score: {:.2f}\u0027.format(i_iteration, np.mean(scores_deque)))\n",
        "\n",
        "        if np.mean(scores_deque)\u003e\u003d90.0:\n",
        "            print(\u0027\\nEnvironment solved in {:d} iterations!\\tAverage Score: {:.2f}\u0027.format(i_iteration-100, np.mean(scores_deque)))\n",
        "            break\n",
        "    return scores\n",
        "\n",
        "scores \u003d cem()\n",
        "\n",
        "# plot the scores\n",
        "fig \u003d plt.figure()\n",
        "ax \u003d fig.add_subplot(111)\n",
        "plt.plot(np.arange(1, len(scores)+1), scores)\n",
        "plt.ylabel(\u0027Score\u0027)\n",
        "plt.xlabel(\u0027Episode #\u0027)\n",
        "plt.show()"
      ]
    },
    {
      "cell_type": "markdown",
      "metadata": {
        "pycharm": {}
      },
      "source": [
        "### 4. Watch a Smart Agent!\n",
        "\n",
        "In the next code cell, you will load the trained weights from file to watch a smart agent!"
      ]
    },
    {
      "cell_type": "code",
      "execution_count": 9,
      "metadata": {
        "pycharm": {}
      },
      "outputs": [],
      "source": [
        "# load the weights from file\n",
        "agent.load_state_dict(torch.load(\u0027checkpoint.pth\u0027))\n",
        "\n",
        "state \u003d env.reset()\n",
        "while True:\n",
        "    state \u003d torch.from_numpy(state).float().to(device)\n",
        "    with torch.no_grad():\n",
        "        action \u003d agent(state)\n",
        "    env.render()\n",
        "    next_state, reward, done, _ \u003d env.step(action)\n",
        "    state \u003d next_state\n",
        "    if done:\n",
        "        break\n",
        "\n",
        "#env.close()"
      ]
    },
    {
      "cell_type": "code",
      "execution_count": 10,
      "metadata": {
        "pycharm": {}
      },
      "outputs": [],
      "source": [
        "env.close()"
      ]
    }
  ],
  "metadata": {
    "anaconda-cloud": {},
    "kernelspec": {
      "display_name": "Python 3",
      "language": "python",
      "name": "python3"
    },
    "language_info": {
      "codemirror_mode": {
        "name": "ipython",
        "version": 3
      },
      "file_extension": ".py",
      "mimetype": "text/x-python",
      "name": "python",
      "nbconvert_exporter": "python",
      "pygments_lexer": "ipython3",
      "version": "3.6.6"
    }
  },
  "nbformat": 4,
  "nbformat_minor": 2
}
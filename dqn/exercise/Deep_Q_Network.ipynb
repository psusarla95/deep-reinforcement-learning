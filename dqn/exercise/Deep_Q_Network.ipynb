{
  "cells": [
    {
      "cell_type": "markdown",
      "metadata": {
        "pycharm": {}
      },
      "source": [
        "# Deep Q-Network (DQN)\n",
        "---\n",
        "In this notebook, you will implement a DQN agent with OpenAI Gym\u0027s LunarLander-v2 environment.\n",
        "\n",
        "### 1. Import the Necessary Packages"
      ]
    },
    {
      "cell_type": "code",
      "execution_count": 1,
      "metadata": {
        "pycharm": {
          "is_executing": false
        }
      },
      "outputs": [],
      "source": [
        "import gym\n",
        "import random\n",
        "import torch\n",
        "import numpy as np\n",
        "from collections import deque\n",
        "import matplotlib.pyplot as plt\n",
        "%matplotlib inline"
      ]
    },
    {
      "cell_type": "markdown",
      "metadata": {
        "pycharm": {}
      },
      "source": [
        "### 2. Instantiate the Environment and Agent\n",
        "\n",
        "Initialize the environment in the code cell below."
      ]
    },
    {
      "cell_type": "code",
      "execution_count": 1,
      "metadata": {
        "pycharm": {
          "is_executing": false
        }
      },
      "outputs": [
        {
          "traceback": [
            "\u001b[1;31m---------------------------------------------------------------------------\u001b[0m",
            "\u001b[1;31mNameError\u001b[0m                                 Traceback (most recent call last)",
            "\u001b[1;32m\u003cipython-input-1-38670a1fcc69\u003e\u001b[0m in \u001b[0;36m\u003cmodule\u003e\u001b[1;34m\u001b[0m\n\u001b[1;32m----\u003e 1\u001b[1;33m \u001b[0menv\u001b[0m \u001b[1;33m\u003d\u001b[0m \u001b[0mgym\u001b[0m\u001b[1;33m.\u001b[0m\u001b[0mmake\u001b[0m\u001b[1;33m(\u001b[0m\u001b[1;34m\u0027LunarLander-v2\u0027\u001b[0m\u001b[1;33m)\u001b[0m\u001b[1;33m\u001b[0m\u001b[0m\n\u001b[0m\u001b[0;32m      2\u001b[0m \u001b[0menv\u001b[0m\u001b[1;33m.\u001b[0m\u001b[0mseed\u001b[0m\u001b[1;33m(\u001b[0m\u001b[1;36m0\u001b[0m\u001b[1;33m)\u001b[0m\u001b[1;33m\u001b[0m\u001b[0m\n\u001b[0;32m      3\u001b[0m \u001b[0mprint\u001b[0m\u001b[1;33m(\u001b[0m\u001b[1;34m\u0027State shape: \u0027\u001b[0m\u001b[1;33m,\u001b[0m \u001b[0menv\u001b[0m\u001b[1;33m.\u001b[0m\u001b[0mobservation_space\u001b[0m\u001b[1;33m.\u001b[0m\u001b[0mshape\u001b[0m\u001b[1;33m)\u001b[0m\u001b[1;33m\u001b[0m\u001b[0m\n\u001b[0;32m      4\u001b[0m \u001b[0mprint\u001b[0m\u001b[1;33m(\u001b[0m\u001b[1;34m\u0027Number of actions: \u0027\u001b[0m\u001b[1;33m,\u001b[0m \u001b[0menv\u001b[0m\u001b[1;33m.\u001b[0m\u001b[0maction_space\u001b[0m\u001b[1;33m.\u001b[0m\u001b[0mn\u001b[0m\u001b[1;33m)\u001b[0m\u001b[1;33m\u001b[0m\u001b[0m\n",
            "\u001b[1;31mNameError\u001b[0m: name \u0027gym\u0027 is not defined"
          ],
          "ename": "NameError",
          "evalue": "name \u0027gym\u0027 is not defined",
          "output_type": "error"
        }
      ],
      "source": [
        "env \u003d gym.make(\u0027LunarLander-v2\u0027)\n",
        "env.seed(0)\n",
        "print(\u0027State shape: \u0027, env.observation_space.shape)\n",
        "print(\u0027Number of actions: \u0027, env.action_space.n)"
      ]
    },
    {
      "cell_type": "markdown",
      "metadata": {
        "pycharm": {}
      },
      "source": [
        "Before running the next code cell, familiarize yourself with the code in **Step 2** and **Step 3** of this notebook, along with the code in `dqn_agent.py` and `model.py`.  Once you have an understanding of how the different files work together, \n",
        "- Define a neural network architecture in `model.py` that maps states to action values.  This file is mostly empty - it\u0027s up to you to define your own deep Q-network!\n",
        "- Finish the `learn` method in the `Agent` class in `dqn_agent.py`.  The sampled batch of experience tuples is already provided for you; you need only use the local and target Q-networks to compute the loss, before taking a step towards minimizing the loss.\n",
        "\n",
        "Once you have completed the code in `dqn_agent.py` and `model.py`, run the code cell below.  (_If you end up needing to make multiple changes and get unexpected behavior, please restart the kernel and run the cells from the beginning of the notebook!_)\n",
        "\n",
        "You can find the solution files, along with saved model weights for a trained agent, in the `solution/` folder.  (_Note that there are many ways to solve this exercise, and the \"solution\" is just one way of approaching the problem, to yield a trained agent._)"
      ]
    },
    {
      "cell_type": "code",
      "execution_count": 3,
      "metadata": {
        "pycharm": {}
      },
      "outputs": [],
      "source": [
        "from dqn_agent import Agent\n",
        "\n",
        "agent \u003d Agent(state_size\u003d8, action_size\u003d4, seed\u003d0)\n",
        "\n",
        "# watch an untrained agent\n",
        "state \u003d env.reset()\n",
        "for j in range(200):\n",
        "    action \u003d agent.act(state)\n",
        "    env.render()\n",
        "    state, reward, done, _ \u003d env.step(action)\n",
        "    if done:\n",
        "        break \n",
        "        \n",
        "env.close()"
      ]
    },
    {
      "cell_type": "markdown",
      "metadata": {
        "pycharm": {}
      },
      "source": [
        "### 3. Train the Agent with DQN\n",
        "\n",
        "Run the code cell below to train the agent from scratch.  You are welcome to amend the supplied values of the parameters in the function, to try to see if you can get better performance!"
      ]
    },
    {
      "cell_type": "code",
      "execution_count": 4,
      "metadata": {
        "pycharm": {}
      },
      "outputs": [
        {
          "name": "stdout",
          "output_type": "stream",
          "text": [
            "Episode 100\tAverage Score: -166.87\n",
            "Episode 200\tAverage Score: -88.783\n",
            "Episode 300\tAverage Score: -49.98\n",
            "Episode 400\tAverage Score: -25.24\n",
            "Episode 500\tAverage Score: 83.562\n",
            "Episode 600\tAverage Score: 193.78\n",
            "Episode 614\tAverage Score: 200.12\n",
            "Environment solved in 514 episodes!\tAverage Score: 200.12\n"
          ]
        },
        {
          "data": {
            "image/png": "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\u003d\n",
            "text/plain": [
              "\u003cFigure size 432x288 with 1 Axes\u003e"
            ]
          },
          "metadata": {
            "needs_background": "light"
          },
          "output_type": "display_data"
        }
      ],
      "source": [
        "def dqn(n_episodes\u003d2000, max_t\u003d1000, eps_start\u003d1.0, eps_end\u003d0.01, eps_decay\u003d0.995):\n",
        "    \"\"\"Deep Q-Learning.\n",
        "    \n",
        "    Params\n",
        "    \u003d\u003d\u003d\u003d\u003d\u003d\n",
        "        n_episodes (int): maximum number of training episodes\n",
        "        max_t (int): maximum number of timesteps per episode\n",
        "        eps_start (float): starting value of epsilon, for epsilon-greedy action selection\n",
        "        eps_end (float): minimum value of epsilon\n",
        "        eps_decay (float): multiplicative factor (per episode) for decreasing epsilon\n",
        "    \"\"\"\n",
        "    scores \u003d []                        # list containing scores from each episode\n",
        "    scores_window \u003d deque(maxlen\u003d100)  # last 100 scores\n",
        "    eps \u003d eps_start                    # initialize epsilon\n",
        "    for i_episode in range(1, n_episodes+1):\n",
        "        state \u003d env.reset()\n",
        "        score \u003d 0\n",
        "        for t in range(max_t):\n",
        "            action \u003d agent.act(state, eps)\n",
        "            next_state, reward, done, _ \u003d env.step(action)\n",
        "            agent.step(state, action, reward, next_state, done)\n",
        "            state \u003d next_state\n",
        "            score +\u003d reward\n",
        "            if done:\n",
        "                break \n",
        "        scores_window.append(score)       # save most recent score\n",
        "        scores.append(score)              # save most recent score\n",
        "        eps \u003d max(eps_end, eps_decay*eps) # decrease epsilon\n",
        "        print(\u0027\\rEpisode {}\\tAverage Score: {:.2f}\u0027.format(i_episode, np.mean(scores_window)), end\u003d\"\")\n",
        "        if i_episode % 100 \u003d\u003d 0:\n",
        "            print(\u0027\\rEpisode {}\\tAverage Score: {:.2f}\u0027.format(i_episode, np.mean(scores_window)))\n",
        "        if np.mean(scores_window)\u003e\u003d200.0:\n",
        "            print(\u0027\\nEnvironment solved in {:d} episodes!\\tAverage Score: {:.2f}\u0027.format(i_episode-100, np.mean(scores_window)))\n",
        "            torch.save(agent.qnetwork_local.state_dict(), \u0027checkpoint.pth\u0027)\n",
        "            break\n",
        "    return scores\n",
        "\n",
        "scores \u003d dqn()\n",
        "\n",
        "# plot the scores\n",
        "fig \u003d plt.figure()\n",
        "ax \u003d fig.add_subplot(111)\n",
        "plt.plot(np.arange(len(scores)), scores)\n",
        "plt.ylabel(\u0027Score\u0027)\n",
        "plt.xlabel(\u0027Episode #\u0027)\n",
        "plt.show()"
      ]
    },
    {
      "cell_type": "markdown",
      "metadata": {
        "pycharm": {}
      },
      "source": [
        "### 4. Watch a Smart Agent!\n",
        "\n",
        "In the next code cell, you will load the trained weights from file to watch a smart agent!"
      ]
    },
    {
      "cell_type": "code",
      "execution_count": 6,
      "metadata": {
        "pycharm": {}
      },
      "outputs": [],
      "source": [
        "# load the weights from file\n",
        "agent.qnetwork_local.load_state_dict(torch.load(\u0027checkpoint.pth\u0027))\n",
        "\n",
        "for i in range(5):\n",
        "    state \u003d env.reset()\n",
        "    for j in range(200):\n",
        "        action \u003d agent.act(state)\n",
        "        env.render()\n",
        "        state, reward, done, _ \u003d env.step(action)\n",
        "        if done:\n",
        "            break \n",
        "            \n",
        "env.close()"
      ]
    },
    {
      "cell_type": "markdown",
      "metadata": {
        "pycharm": {}
      },
      "source": [
        "### 5. Explore\n",
        "\n",
        "In this exercise, you have implemented a DQN agent and demonstrated how to use it to solve an OpenAI Gym environment.  To continue your learning, you are encouraged to complete any (or all!) of the following tasks:\n",
        "- Amend the various hyperparameters and network architecture to see if you can get your agent to solve the environment faster.  Once you build intuition for the hyperparameters that work well with this environment, try solving a different OpenAI Gym task with discrete actions!\n",
        "- You may like to implement some improvements such as prioritized experience replay, Double DQN, or Dueling DQN! \n",
        "- Write a blog post explaining the intuition behind the DQN algorithm and demonstrating how to use it to solve an RL environment of your choosing.  "
      ]
    }
  ],
  "metadata": {
    "kernelspec": {
      "display_name": "Python 3",
      "language": "python",
      "name": "python3"
    },
    "language_info": {
      "codemirror_mode": {
        "name": "ipython",
        "version": 3
      },
      "file_extension": ".py",
      "mimetype": "text/x-python",
      "name": "python",
      "nbconvert_exporter": "python",
      "pygments_lexer": "ipython3",
      "version": "3.6.6"
    }
  },
  "nbformat": 4,
  "nbformat_minor": 2
}